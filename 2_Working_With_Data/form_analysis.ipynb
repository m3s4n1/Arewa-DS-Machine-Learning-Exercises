{
 "cells": [
  {
   "cell_type": "code",
   "execution_count": 3,
   "id": "3d4be82c",
   "metadata": {},
   "outputs": [],
   "source": [
    "\n",
    "# Import libraries\n",
    "import pandas as pd\n",
    "import matplotlib.pyplot as plt\n"
   ]
  },
  {
   "cell_type": "code",
   "execution_count": null,
   "id": "c1ff2f41",
   "metadata": {},
   "outputs": [],
   "source": [
    "# Load dataset\n",
    "form_df = pd.read_csv('Assignment_Week_1/form.csv')\n",
    "\n",
    "# Display the data\n",
    "form_df\n"
   ]
  },
  {
   "cell_type": "code",
   "execution_count": null,
   "id": "77980252",
   "metadata": {},
   "outputs": [],
   "source": [
    "#Visualizations\n",
    "# Raw state distribution (uncleaned)\n",
    "form_df['state'].value_counts().plot(kind='bar', title='Raw State Distribution')\n",
    "plt.xticks(rotation=45)\n",
    "plt.show()\n"
   ]
  },
  {
   "cell_type": "code",
   "execution_count": null,
   "id": "760c487e",
   "metadata": {},
   "outputs": [],
   "source": [
    "# Raw birth month distribution\n",
    "form_df['birth_month'].value_counts().plot(kind='bar', title='Raw Birth Month Distribution')\n",
    "plt.xticks(rotation=45)\n",
    "plt.show()\n"
   ]
  },
  {
   "cell_type": "code",
   "execution_count": null,
   "id": "1c02cd33",
   "metadata": {},
   "outputs": [],
   "source": [
    "# Raw birth month distribution\n",
    "form_df['birth_month'].value_counts().plot(kind='bar', title='Raw Birth Month Distribution')\n",
    "plt.xticks(rotation=45)\n",
    "plt.show()\n"
   ]
  },
  {
   "cell_type": "code",
   "execution_count": null,
   "id": "261f11a9",
   "metadata": {},
   "outputs": [],
   "source": [
    "# Clean birth_month\n",
    "form_df['birth_month_clean'] = form_df['birth_month'].str.strip().str.lower()\n",
    "\n",
    "month_map = {\n",
    "    'jan': 'January', 'january': 'January',\n",
    "    'feb': 'February', 'february': 'February',\n",
    "    'mar': 'March', 'march': 'March',\n",
    "    'apr': 'April', 'april': 'April',\n",
    "    'may': 'May',\n",
    "    'jun': 'June', 'june': 'June',\n",
    "    'jul': 'July', 'july': 'July',\n",
    "    'aug': 'August', 'august': 'August',\n",
    "    'sep': 'September', 'sept': 'September', 'september': 'September',\n",
    "    'oct': 'October', 'october': 'October',\n",
    "    'nov': 'November', 'november': 'November',\n",
    "    'dec': 'December', 'december': 'December'\n",
    "}\n",
    "\n",
    "form_df['birth_month_clean'] = form_df['birth_month_clean'].map(month_map)\n"
   ]
  },
  {
   "cell_type": "code",
   "execution_count": null,
   "id": "76ba8629",
   "metadata": {},
   "outputs": [],
   "source": [
    "# Clean state column\n",
    "form_df['state_clean'] = form_df['state'].str.strip().str.title()\n",
    "\n",
    "state_map = {\n",
    "    'Ca': 'California',\n",
    "    'Fl': 'Florida',\n",
    "    'Ak': 'Alaska',\n",
    "    'Ri': 'Rhode Island',\n",
    "    'Hi': 'Hawaii'\n",
    "}\n",
    "\n",
    "form_df['state_clean'] = form_df['state_clean'].replace(state_map)\n"
   ]
  },
  {
   "cell_type": "code",
   "execution_count": null,
   "id": "e7a5b50f",
   "metadata": {},
   "outputs": [],
   "source": [
    "# Preview cleaned data\n",
    "form_df[['birth_month', 'birth_month_clean', 'state', 'state_clean', 'pet', 'pet_clean']]\n"
   ]
  },
  {
   "cell_type": "code",
   "execution_count": null,
   "id": "dfb0c010",
   "metadata": {},
   "outputs": [],
   "source": [
    "# Preview cleaned data\n",
    "form_df[['birth_month', 'birth_month_clean', 'state', 'state_clean', 'pet', 'pet_clean']]\n"
   ]
  },
  {
   "cell_type": "code",
   "execution_count": null,
   "id": "39480391",
   "metadata": {},
   "outputs": [],
   "source": [
    "#CLEANED VISUALIZAITONS\n",
    "# Cleaned state distribution\n",
    "form_df['state_clean'].value_counts().plot(kind='bar', title='Cleaned State Distribution')\n",
    "plt.xticks(rotation=45)\n",
    "plt.show()\n"
   ]
  },
  {
   "cell_type": "code",
   "execution_count": null,
   "id": "3defc0b4",
   "metadata": {},
   "outputs": [],
   "source": [
    "# Cleaned birth month distribution\n",
    "form_df['birth_month_clean'].value_counts().plot(kind='bar', title='Cleaned Birth Month Distribution')\n",
    "plt.xticks(rotation=45)\n",
    "plt.show()\n"
   ]
  },
  {
   "cell_type": "code",
   "execution_count": null,
   "id": "6d7e973b",
   "metadata": {},
   "outputs": [],
   "source": [
    "# Cleaned pet preferences\n",
    "form_df['pet_clean'].value_counts().plot(kind='bar', title='Pet Preference')\n",
    "plt.xticks(rotation=0)\n",
    "plt.show()\n"
   ]
  }
 ],
 "metadata": {
  "kernelspec": {
   "display_name": "Python (myenv)",
   "language": "python",
   "name": "myenv"
  },
  "language_info": {
   "codemirror_mode": {
    "name": "ipython",
    "version": 3
   },
   "file_extension": ".py",
   "mimetype": "text/x-python",
   "name": "python",
   "nbconvert_exporter": "python",
   "pygments_lexer": "ipython3",
   "version": "3.12.10"
  }
 },
 "nbformat": 4,
 "nbformat_minor": 5
}
